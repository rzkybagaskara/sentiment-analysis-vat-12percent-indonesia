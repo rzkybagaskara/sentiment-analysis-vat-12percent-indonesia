{
 "cells": [
  {
   "cell_type": "markdown",
   "metadata": {},
   "source": [
    "### Scraping News Headlines Related To The Increase VAT (PPN) Amount in Indonesia"
   ]
  },
  {
   "cell_type": "code",
   "execution_count": null,
   "metadata": {},
   "outputs": [],
   "source": [
    "# %pip install beautifulsoup4\n",
    "# %pip install pandas\n",
    "#%pip install requests\n",
    "# %pip install feedparser==6.0.8\n",
    "# %pip install pygooglenews --upgrade"
   ]
  },
  {
   "cell_type": "code",
   "execution_count": 1,
   "metadata": {},
   "outputs": [],
   "source": [
    "import pandas as pd\n",
    "import requests\n",
    "from bs4 import BeautifulSoup"
   ]
  },
  {
   "cell_type": "code",
   "execution_count": 2,
   "metadata": {},
   "outputs": [],
   "source": [
    "def scrap_news():\n",
    "    ppn_url = 'https://www.detik.com/tag/ppn'\n",
    "    news = []\n",
    "    page_num = 1\n",
    "    \n",
    "    while True:\n",
    "        if page_num <= 30:\n",
    "            page_num += 1\n",
    "            url = f'{ppn_url}/?page={page_num}'\n",
    "            print(f'Scraping Page: {page_num} ')\n",
    "            \n",
    "            request_page = requests.get(url)\n",
    "            soup = BeautifulSoup(request_page.text, 'html')\n",
    "            \n",
    "            articles = soup.find_all('article')\n",
    "            \n",
    "            for article in articles:\n",
    "                article_url = article.find('a').get('href')\n",
    "                title = article.find('h2', 'title').text\n",
    "                \n",
    "                news.append({\n",
    "                    'url': article_url,\n",
    "                    'title': title,\n",
    "                    'platform': 'detik.com'\n",
    "                })\n",
    "\n",
    "        else:\n",
    "            break\n",
    "    \n",
    "    df_news = pd.DataFrame(news)\n",
    "    df_news_csv = df_news.to_csv('ppn_news.csv', index='False')\n",
    "            \n",
    "    return df_news_csv"
   ]
  },
  {
   "cell_type": "code",
   "execution_count": 6,
   "metadata": {},
   "outputs": [],
   "source": [
    "def scrap_news_new(ppn_url):\n",
    "    # ppn_url = 'https://www.detik.com/tag/ppn'\n",
    "    news = []\n",
    "    page_num = 1\n",
    "    \n",
    "    while True:\n",
    "        if page_num <= 30:\n",
    "            page_num += 1\n",
    "            url = f'{ppn_url}/?page={page_num}'\n",
    "            print(f'Scraping Page: {page_num} ')\n",
    "            \n",
    "            request_page = requests.get(url)\n",
    "            soup = BeautifulSoup(request_page.text, 'html')\n",
    "            \n",
    "            articles = soup.find_all('article')\n",
    "            \n",
    "            for article in articles:\n",
    "                article_url = article.find('a').get('href')\n",
    "                title = getattr(article.find('h2', 'title'), 'text', None)\n",
    "                \n",
    "                news.append({\n",
    "                    'url': article_url,\n",
    "                    'title': title,\n",
    "                    'platform': 'liputan6.com'\n",
    "                })\n",
    "\n",
    "        else:\n",
    "            break\n",
    "    \n",
    "    df_news = pd.DataFrame(news)\n",
    "    df_news_csv = df_news.to_csv('ppn_news_new.csv', index='False')\n",
    "            \n",
    "    return df_news_csv"
   ]
  },
  {
   "cell_type": "code",
   "execution_count": 51,
   "metadata": {},
   "outputs": [
    {
     "name": "stdout",
     "output_type": "stream",
     "text": [
      "Scraping Page: 2 \n",
      "Scraping Page: 3 \n",
      "Scraping Page: 4 \n",
      "Scraping Page: 5 \n",
      "Scraping Page: 6 \n",
      "Scraping Page: 7 \n",
      "Scraping Page: 8 \n",
      "Scraping Page: 9 \n",
      "Scraping Page: 10 \n",
      "Scraping Page: 11 \n",
      "Scraping Page: 12 \n",
      "Scraping Page: 13 \n",
      "Scraping Page: 14 \n",
      "Scraping Page: 15 \n",
      "Scraping Page: 16 \n",
      "Scraping Page: 17 \n",
      "Scraping Page: 18 \n",
      "Scraping Page: 19 \n",
      "Scraping Page: 20 \n",
      "Scraping Page: 21 \n",
      "Scraping Page: 22 \n",
      "Scraping Page: 23 \n",
      "Scraping Page: 24 \n",
      "Scraping Page: 25 \n",
      "Scraping Page: 26 \n",
      "Scraping Page: 27 \n",
      "Scraping Page: 28 \n",
      "Scraping Page: 29 \n",
      "Scraping Page: 30 \n",
      "Scraping Page: 31 \n"
     ]
    }
   ],
   "source": [
    "results = scrap_news()\n",
    "results"
   ]
  },
  {
   "cell_type": "code",
   "execution_count": 7,
   "metadata": {},
   "outputs": [
    {
     "name": "stdout",
     "output_type": "stream",
     "text": [
      "Scraping Page: 2 \n",
      "Scraping Page: 3 \n",
      "Scraping Page: 4 \n",
      "Scraping Page: 5 \n",
      "Scraping Page: 6 \n",
      "Scraping Page: 7 \n",
      "Scraping Page: 8 \n",
      "Scraping Page: 9 \n",
      "Scraping Page: 10 \n",
      "Scraping Page: 11 \n",
      "Scraping Page: 12 \n",
      "Scraping Page: 13 \n",
      "Scraping Page: 14 \n",
      "Scraping Page: 15 \n",
      "Scraping Page: 16 \n",
      "Scraping Page: 17 \n",
      "Scraping Page: 18 \n",
      "Scraping Page: 19 \n",
      "Scraping Page: 20 \n",
      "Scraping Page: 21 \n",
      "Scraping Page: 22 \n",
      "Scraping Page: 23 \n",
      "Scraping Page: 24 \n",
      "Scraping Page: 25 \n",
      "Scraping Page: 26 \n",
      "Scraping Page: 27 \n",
      "Scraping Page: 28 \n",
      "Scraping Page: 29 \n",
      "Scraping Page: 30 \n",
      "Scraping Page: 31 \n"
     ]
    }
   ],
   "source": [
    "res = scrap_news_new('https://www.liputan6.com/tag/ppn-12')\n",
    "res"
   ]
  }
 ],
 "metadata": {
  "kernelspec": {
   "display_name": ".venv",
   "language": "python",
   "name": "python3"
  },
  "language_info": {
   "codemirror_mode": {
    "name": "ipython",
    "version": 3
   },
   "file_extension": ".py",
   "mimetype": "text/x-python",
   "name": "python",
   "nbconvert_exporter": "python",
   "pygments_lexer": "ipython3",
   "version": "3.12.2"
  }
 },
 "nbformat": 4,
 "nbformat_minor": 2
}
